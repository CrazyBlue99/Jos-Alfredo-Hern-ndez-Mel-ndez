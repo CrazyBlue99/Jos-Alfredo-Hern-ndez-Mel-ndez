{
 "cells": [
  {
   "cell_type": "markdown",
   "metadata": {},
   "source": [
    " ## Asking Questions."
   ]
  },
  {
   "cell_type": "code",
   "execution_count": 10,
   "metadata": {},
   "outputs": [
    {
     "name": "stdout",
     "output_type": "stream",
     "text": [
      "How old are you?20\n",
      "How tall are you?195\n",
      "How much do you weight?160\n",
      "So,you are 20 old, 195 tall & 160 heavy.\n"
     ]
    }
   ],
   "source": [
    "print(\"How old are you?\", end='')\n",
    "age = input()\n",
    "print(\"How tall are you?\", end='')\n",
    "height = input()\n",
    "print(\"How much do you weight?\", end='')\n",
    "weight = input()\n",
    "print(f\"So,you are {age} old, {height} tall & {weight} heavy.\")"
   ]
  },
  {
   "cell_type": "code",
   "execution_count": null,
   "metadata": {},
   "outputs": [],
   "source": []
  }
 ],
 "metadata": {
  "kernelspec": {
   "display_name": "Python 3",
   "language": "python",
   "name": "python3"
  },
  "language_info": {
   "codemirror_mode": {
    "name": "ipython",
    "version": 3
   },
   "file_extension": ".py",
   "mimetype": "text/x-python",
   "name": "python",
   "nbconvert_exporter": "python",
   "pygments_lexer": "ipython3",
   "version": "3.7.3"
  }
 },
 "nbformat": 4,
 "nbformat_minor": 2
}
