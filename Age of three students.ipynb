{
 "cells": [
  {
   "cell_type": "markdown",
   "metadata": {},
   "source": [
    "    # Write a program that ask the age of three students."
   ]
  },
  {
   "cell_type": "code",
   "execution_count": 1,
   "metadata": {},
   "outputs": [
    {
     "name": "stdout",
     "output_type": "stream",
     "text": [
      "Insert age of Student 1\n",
      "10\n",
      "Insert age of Student 2\n",
      "20\n",
      "Insert age of Student 3\n",
      "30\n",
      "20\n"
     ]
    }
   ],
   "source": [
    "print(\"Insert age of Student 1\")\n",
    "age1 = int(input())\n",
    "print(\"Insert age of Student 2\")\n",
    "age2 = int(input())\n",
    "print(\"Insert age of Student 3\")\n",
    "age3 = int(input())\n",
    "print((age1 + age2 + age3)//3)"
   ]
  },
  {
   "cell_type": "code",
   "execution_count": null,
   "metadata": {},
   "outputs": [],
   "source": []
  }
 ],
 "metadata": {
  "kernelspec": {
   "display_name": "Python 3",
   "language": "python",
   "name": "python3"
  },
  "language_info": {
   "codemirror_mode": {
    "name": "ipython",
    "version": 3
   },
   "file_extension": ".py",
   "mimetype": "text/x-python",
   "name": "python",
   "nbconvert_exporter": "python",
   "pygments_lexer": "ipython3",
   "version": "3.7.3"
  }
 },
 "nbformat": 4,
 "nbformat_minor": 2
}
